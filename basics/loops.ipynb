{
 "cells": [
  {
   "cell_type": "markdown",
   "metadata": {},
   "source": [
    "# Loops in Python\n",
    "- for\n",
    "    - used when number of iterations(steps) is known or length of iterable is known\n",
    "- while\n",
    "    - used when we use a condition to iterable a program and total iterations depends on the logic"
   ]
  },
  {
   "cell_type": "markdown",
   "metadata": {},
   "source": [
    "what u need to know\n",
    "- for loop using iterables\n",
    "- enumrate()\n",
    "- zip()\n"
   ]
  },
  {
   "cell_type": "markdown",
   "metadata": {},
   "source": [
    "iterables are \n",
    "- string\n",
    "- range()\n",
    "- zip()\n",
    "- etc"
   ]
  },
  {
   "cell_type": "code",
   "execution_count": 4,
   "metadata": {},
   "outputs": [
    {
     "name": "stdout",
     "output_type": "stream",
     "text": [
      "16\n"
     ]
    }
   ],
   "source": [
    "name = 'raja suraj singh'\n",
    "print(len(name))"
   ]
  },
  {
   "cell_type": "code",
   "execution_count": 6,
   "metadata": {},
   "outputs": [
    {
     "name": "stdout",
     "output_type": "stream",
     "text": [
      "r,a,j,a, ,s,u,r,a,j, ,s,i,n,g,h,"
     ]
    }
   ],
   "source": [
    "for val in name :\n",
    "    print(val,end=',')"
   ]
  },
  {
   "cell_type": "code",
   "execution_count": 3,
   "metadata": {},
   "outputs": [
    {
     "name": "stdout",
     "output_type": "stream",
     "text": [
      "val 1\n",
      "val 2\n",
      "val 3\n",
      "val 4\n",
      "val 5\n",
      "val 6\n",
      "val 12\n",
      "val 12\n",
      "val 213\n"
     ]
    }
   ],
   "source": [
    "for i in [1,2,3,4,5,6,12,12,213]:\n",
    "    print('val', i)"
   ]
  },
  {
   "cell_type": "code",
   "execution_count": 7,
   "metadata": {},
   "outputs": [
    {
     "name": "stdout",
     "output_type": "stream",
     "text": [
      "yo\n",
      "yo\n",
      "yo\n",
      "yo\n",
      "yo\n"
     ]
    }
   ],
   "source": [
    "for i in range(5):\n",
    "    print('yo')"
   ]
  },
  {
   "cell_type": "markdown",
   "metadata": {},
   "source": [
    "** range() function **\n",
    "we have three variations of range function\n",
    "1. range(val) -> the range stats from 0 and goes till val - 1\n",
    "2. range(start, stop) -> the range starts from start value and stops as stop -1\n",
    "3. range(start, stop, step) -> the range starts and stop normal, but values have a gap of step value"
   ]
  },
  {
   "cell_type": "code",
   "execution_count": 8,
   "metadata": {},
   "outputs": [
    {
     "name": "stdout",
     "output_type": "stream",
     "text": [
      "5,6,7,8,9,"
     ]
    }
   ],
   "source": [
    "for i in range(5,10):\n",
    "    print(i,end = ',')"
   ]
  },
  {
   "cell_type": "code",
   "execution_count": 9,
   "metadata": {},
   "outputs": [
    {
     "name": "stdout",
     "output_type": "stream",
     "text": [
      "-10.-9.-8.-7.-6.-5.-4.-3.-2.-1.0.1.2.3.4.5.6.7.8.9.10."
     ]
    }
   ],
   "source": [
    "for i in range(-10,11):\n",
    "    print(i, end='.')"
   ]
  },
  {
   "cell_type": "code",
   "execution_count": 13,
   "metadata": {},
   "outputs": [
    {
     "name": "stdout",
     "output_type": "stream",
     "text": [
      "5 10 15 20 25 30 35 40 45 50 55 60 65 70 75 80 85 90 95 100 "
     ]
    }
   ],
   "source": [
    "for i in range(5,101,5):\n",
    "    print(i, end=' ')"
   ]
  },
  {
   "cell_type": "markdown",
   "metadata": {},
   "source": [
    "f-string is used as special string system for mixing variables and normal messages, for displaying better response"
   ]
  },
  {
   "cell_type": "code",
   "execution_count": 15,
   "metadata": {},
   "outputs": [
    {
     "name": "stdout",
     "output_type": "stream",
     "text": [
      "2 * 1 = 2\n",
      "2 * 2 = 4\n",
      "2 * 3 = 6\n",
      "2 * 4 = 8\n",
      "2 * 5 = 10\n",
      "2 * 6 = 12\n",
      "2 * 7 = 14\n",
      "2 * 8 = 16\n",
      "2 * 9 = 18\n",
      "2 * 10 = 20\n"
     ]
    }
   ],
   "source": [
    "for i in range(1,11):\n",
    "    print(f'2 * {i} = { 2 * i  }')"
   ]
  },
  {
   "cell_type": "code",
   "execution_count": 16,
   "metadata": {},
   "outputs": [
    {
     "name": "stdout",
     "output_type": "stream",
     "text": [
      "1 1 1 1 1\n",
      "2 4 8 16 32\n",
      "3 9 27 81 243\n",
      "4 16 64 256 1024\n",
      "5 25 125 625 3125\n",
      "6 36 216 1296 7776\n",
      "7 49 343 2401 16807\n",
      "8 64 512 4096 32768\n",
      "9 81 729 6561 59049\n",
      "10 100 1000 10000 100000\n"
     ]
    }
   ],
   "source": [
    "for i in range(1,11):\n",
    "    print(f'{i} {i ** 2} {i ** 3} {i ** 4} {i ** 5}')"
   ]
  },
  {
   "cell_type": "code",
   "execution_count": 17,
   "metadata": {},
   "outputs": [
    {
     "name": "stdout",
     "output_type": "stream",
     "text": [
      "Apple\n",
      "Balloon\n",
      "Cherry\n",
      "Dog\n",
      "Elephant\n",
      "Falcon\n",
      "Giraffe\n",
      "Horse\n"
     ]
    }
   ],
   "source": [
    "words = ['Apple', 'Balloon', 'Cherry', 'Dog', 'Elephant', 'Falcon', 'Giraffe', 'Horse']\n",
    "for item in words:\n",
    "    print(item)"
   ]
  },
  {
   "cell_type": "code",
   "execution_count": 18,
   "metadata": {},
   "outputs": [
    {
     "name": "stdout",
     "output_type": "stream",
     "text": [
      "0 Apple\n",
      "1 Balloon\n",
      "2 Cherry\n",
      "3 Dog\n",
      "4 Elephant\n",
      "we found the 5th item\n",
      "5 Falcon\n",
      "6 Giraffe\n",
      "7 Horse\n"
     ]
    }
   ],
   "source": [
    "for idx,item in enumerate(words):\n",
    "    print(idx, item)\n",
    "    if idx == 4: # 5 item\n",
    "        print('we found the 5th item', item)"
   ]
  },
  {
   "cell_type": "code",
   "execution_count": 27,
   "metadata": {},
   "outputs": [
    {
     "name": "stdout",
     "output_type": "stream",
     "text": [
      "the number is composite\n"
     ]
    }
   ],
   "source": [
    "num = int(input('enter number'))\n",
    "k=0\n",
    "for i in range(2,num):\n",
    "    if num%i==0:\n",
    "        k=1\n",
    "if k==1:\n",
    "    print('the number is composite')\n",
    "elif num==1:\n",
    "    print('niether prime nor composite')    \n",
    "else:\n",
    "    print('the number is prime')"
   ]
  },
  {
   "cell_type": "markdown",
   "metadata": {},
   "source": [
    "30 oct 21"
   ]
  },
  {
   "cell_type": "code",
   "execution_count": 30,
   "metadata": {},
   "outputs": [],
   "source": [
    "values = [1,2,3,2,2,4,3,3,4,3,2,1,2,1]"
   ]
  },
  {
   "cell_type": "code",
   "execution_count": 31,
   "metadata": {},
   "outputs": [
    {
     "data": {
      "text/plain": [
       "33"
      ]
     },
     "execution_count": 31,
     "metadata": {},
     "output_type": "execute_result"
    }
   ],
   "source": [
    "sum(values)"
   ]
  },
  {
   "cell_type": "code",
   "execution_count": 29,
   "metadata": {},
   "outputs": [
    {
     "name": "stdout",
     "output_type": "stream",
     "text": [
      "33\n"
     ]
    }
   ],
   "source": [
    "total = 0\n",
    "for i in values:\n",
    "    total += i\n",
    "print(total)"
   ]
  },
  {
   "cell_type": "code",
   "execution_count": 32,
   "metadata": {},
   "outputs": [
    {
     "name": "stdout",
     "output_type": "stream",
     "text": [
      "4\n"
     ]
    }
   ],
   "source": [
    "maximum = values[0] # by default assume first one is max\n",
    "for i in values:\n",
    "    if i > maximum:\n",
    "        maximum = i\n",
    "print(maximum)"
   ]
  },
  {
   "cell_type": "code",
   "execution_count": 33,
   "metadata": {},
   "outputs": [
    {
     "data": {
      "text/plain": [
       "4"
      ]
     },
     "execution_count": 33,
     "metadata": {},
     "output_type": "execute_result"
    }
   ],
   "source": [
    "max(values)"
   ]
  },
  {
   "cell_type": "code",
   "execution_count": 34,
   "metadata": {},
   "outputs": [
    {
     "data": {
      "text/plain": [
       "2.357142857142857"
      ]
     },
     "execution_count": 34,
     "metadata": {},
     "output_type": "execute_result"
    }
   ],
   "source": [
    "sum(values)/len(values)"
   ]
  },
  {
   "cell_type": "code",
   "execution_count": 37,
   "metadata": {},
   "outputs": [
    {
     "name": "stdout",
     "output_type": "stream",
     "text": [
      "30\n"
     ]
    }
   ],
   "source": [
    "numbers = [1,2,3,4,5,6,7,8,9,10]\n",
    "sumEven=0\n",
    "for i in numbers:\n",
    "    if i%2==0:\n",
    "        sumEven += i\n",
    "print(sumEven)"
   ]
  },
  {
   "cell_type": "markdown",
   "metadata": {},
   "source": [
    "# Nested Loop"
   ]
  },
  {
   "cell_type": "code",
   "execution_count": 38,
   "metadata": {},
   "outputs": [
    {
     "name": "stdout",
     "output_type": "stream",
     "text": [
      "1 2 3 2 3 4 3 4 5 4 5 6 5 6 7 6 7 8 7 8 9 8 9 10 9 10 11 10 11 12 "
     ]
    }
   ],
   "source": [
    "for i in numbers:\n",
    "    for j in range(3):\n",
    "        print(i + j, end = ' ')"
   ]
  },
  {
   "cell_type": "code",
   "execution_count": 43,
   "metadata": {},
   "outputs": [
    {
     "name": "stdout",
     "output_type": "stream",
     "text": [
      "1 1 1 1 1 1 1 1 1 1 \n",
      "2 4 8 16 32 64 128 256 512 1024 \n",
      "3 9 27 81 243 729 2187 6561 19683 59049 \n",
      "4 16 64 256 1024 4096 16384 65536 262144 1048576 \n",
      "5 25 125 625 3125 15625 78125 390625 1953125 9765625 \n",
      "6 36 216 1296 7776 46656 279936 1679616 10077696 60466176 \n",
      "7 49 343 2401 16807 117649 823543 5764801 40353607 282475249 \n",
      "8 64 512 4096 32768 262144 2097152 16777216 134217728 1073741824 \n",
      "9 81 729 6561 59049 531441 4782969 43046721 387420489 3486784401 \n",
      "10 100 1000 10000 100000 1000000 10000000 100000000 1000000000 10000000000 \n"
     ]
    }
   ],
   "source": [
    "for i in range(1,11):\n",
    "    for j in range(1,11):\n",
    "        print(i**j, end=' ')\n",
    "    print() "
   ]
  },
  {
   "cell_type": "code",
   "execution_count": 44,
   "metadata": {},
   "outputs": [
    {
     "name": "stdout",
     "output_type": "stream",
     "text": [
      "sum is  16676686696\n"
     ]
    }
   ],
   "source": [
    "# wap to total all the exponent value from 1 to 10 from numbers 1 to 10\n",
    "total=0\n",
    "for i in range(1,11):\n",
    "    for j in range(1,11):\n",
    "        total += i**j\n",
    "print('sum is ',total) "
   ]
  },
  {
   "cell_type": "markdown",
   "metadata": {},
   "source": [
    "31 oct 21"
   ]
  },
  {
   "cell_type": "code",
   "execution_count": null,
   "metadata": {},
   "outputs": [],
   "source": [
    "a = [1,2,3,4,5]\n",
    "b = [6,7,8,9,0]\n",
    "c = [2,4,7,3,8,2,9]"
   ]
  },
  {
   "cell_type": "code",
   "execution_count": null,
   "metadata": {},
   "outputs": [],
   "source": [
    "for i,j in zip(a,b):\n",
    "    print(i,j)"
   ]
  },
  {
   "cell_type": "code",
   "execution_count": null,
   "metadata": {},
   "outputs": [],
   "source": [
    "for i,j,k in zip(a,b,c):\n",
    "    print(i,j,k)"
   ]
  },
  {
   "cell_type": "markdown",
   "metadata": {},
   "source": [
    "# break and continue\n",
    "- break -> it stops your loop and puts the control outside it\n",
    "- continue -> it is used to skip a step in the loop"
   ]
  },
  {
   "cell_type": "code",
   "execution_count": 6,
   "metadata": {},
   "outputs": [
    {
     "name": "stdout",
     "output_type": "stream",
     "text": [
      "t h i s i s s u p e r i m p o r t a n t m s g "
     ]
    }
   ],
   "source": [
    "msg =\"this is super important msg\"\n",
    "# using continue to skip when space character is found\"\n",
    "for i in msg:\n",
    "    if i == ' ':\n",
    "        continue\n",
    "    print(i, end= \" \")"
   ]
  },
  {
   "cell_type": "code",
   "execution_count": 2,
   "metadata": {},
   "outputs": [
    {
     "name": "stdout",
     "output_type": "stream",
     "text": [
      "1 2 423 34 65 37 95 43 \n",
      "the end\n"
     ]
    }
   ],
   "source": [
    "msg = [1,2,423,34,65,37,95,43,0,6,13,90,56,877,0,1233,4,3,23,34]\n",
    "#stops the loop when 0 is found, by using break\n",
    "for i in msg:\n",
    "    if i == 0:\n",
    "        break\n",
    "    print(i,end=' ')\n",
    "print('\\nthe end')  "
   ]
  },
  {
   "cell_type": "code",
   "execution_count": null,
   "metadata": {},
   "outputs": [],
   "source": []
  }
 ],
 "metadata": {
  "interpreter": {
   "hash": "d62006d1f3422635846181a997a61e8ec3049f797e5d7dfe0cd1bb84092b7c19"
  },
  "kernelspec": {
   "display_name": "Python 3.9.7 64-bit",
   "name": "python3"
  },
  "language_info": {
   "codemirror_mode": {
    "name": "ipython",
    "version": 3
   },
   "file_extension": ".py",
   "mimetype": "text/x-python",
   "name": "python",
   "nbconvert_exporter": "python",
   "pygments_lexer": "ipython3",
   "version": "3.9.7"
  },
  "orig_nbformat": 4
 },
 "nbformat": 4,
 "nbformat_minor": 2
}
