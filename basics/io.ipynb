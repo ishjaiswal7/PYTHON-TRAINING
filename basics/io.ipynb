{
 "cells": [
  {
   "cell_type": "markdown",
   "metadata": {},
   "source": [
    "# create variables name, age, college, semester,blood group, city, address"
   ]
  },
  {
   "cell_type": "code",
   "execution_count": null,
   "metadata": {},
   "outputs": [],
   "source": [
    "name=input(\"enter name\")\n",
    "age=input(\"enter age\")\n",
    "college=input(\"enter college\")\n",
    "semester=input(\"enter sem\")\n",
    "city=input(\"enter city\")"
   ]
  },
  {
   "cell_type": "markdown",
   "metadata": {},
   "source": [
    "# input three numbers and find product"
   ]
  },
  {
   "cell_type": "code",
   "execution_count": null,
   "metadata": {},
   "outputs": [],
   "source": [
    "a=int(input(\"enter 1st number\"))\n",
    "b=int(input(\"enter 2nd number\"))\n",
    "c=int(input(\"enter 3rd number\"))\n",
    "print(a*b*c)"
   ]
  },
  {
   "cell_type": "code",
   "execution_count": 1,
   "metadata": {},
   "outputs": [],
   "source": [
    "weather = input(\"how's the weather \")\n",
    "time = input('what is the time ')"
   ]
  },
  {
   "cell_type": "markdown",
   "metadata": {},
   "source": [
    "Output format style\n",
    "- comma separated style\n",
    "- format specifier\n",
    "- concatenation\n",
    "- format function\n",
    "- f string"
   ]
  },
  {
   "cell_type": "markdown",
   "metadata": {},
   "source": []
  },
  {
   "cell_type": "code",
   "execution_count": 2,
   "metadata": {},
   "outputs": [
    {
     "name": "stdout",
     "output_type": "stream",
     "text": [
      "the weather is sunny and the time is 4pm\n"
     ]
    }
   ],
   "source": [
    "print(\"the weather is\", weather,'and the time is',time)"
   ]
  },
  {
   "cell_type": "code",
   "execution_count": 4,
   "metadata": {},
   "outputs": [
    {
     "name": "stdout",
     "output_type": "stream",
     "text": [
      "the weather is sunny and the time is 4pm\n"
     ]
    }
   ],
   "source": [
    "# C Style\n",
    "print('the weather is %s and the time is %s' %(weather,time))"
   ]
  },
  {
   "cell_type": "code",
   "execution_count": 5,
   "metadata": {},
   "outputs": [
    {
     "name": "stdout",
     "output_type": "stream",
     "text": [
      "the weather is sunnyand the time is 4pm\n"
     ]
    }
   ],
   "source": [
    "#java style\n",
    "print('the weather is '+weather+'and the time is '+time)"
   ]
  },
  {
   "cell_type": "code",
   "execution_count": 7,
   "metadata": {},
   "outputs": [
    {
     "name": "stdout",
     "output_type": "stream",
     "text": [
      "the weather is sunny and the time is 4pm\n"
     ]
    }
   ],
   "source": [
    "#format\n",
    "print('the weather is {} and the time is {}'.format(weather,time))"
   ]
  },
  {
   "cell_type": "code",
   "execution_count": 8,
   "metadata": {},
   "outputs": [
    {
     "name": "stdout",
     "output_type": "stream",
     "text": [
      "the weather is sunny and the time is 4pm\n"
     ]
    }
   ],
   "source": [
    "#f string\n",
    "print(f'the weather is {weather} and the time is {time}')"
   ]
  },
  {
   "cell_type": "code",
   "execution_count": 10,
   "metadata": {},
   "outputs": [
    {
     "name": "stdout",
     "output_type": "stream",
     "text": [
      "the total of 5, 6 and 7 is 18. Okie\n"
     ]
    }
   ],
   "source": [
    "print(f'the total of 5, 6 and 7 is {5 + 6 + 7}. Okie')"
   ]
  },
  {
   "cell_type": "markdown",
   "metadata": {},
   "source": [
    "# bottom pannel = ctrl + j\n",
    "# side pannel = ctrl + b"
   ]
  },
  {
   "cell_type": "markdown",
   "metadata": {},
   "source": []
  }
 ],
 "metadata": {
  "interpreter": {
   "hash": "d62006d1f3422635846181a997a61e8ec3049f797e5d7dfe0cd1bb84092b7c19"
  },
  "kernelspec": {
   "display_name": "Python 3.9.7 64-bit",
   "name": "python3"
  },
  "language_info": {
   "codemirror_mode": {
    "name": "ipython",
    "version": 3
   },
   "file_extension": ".py",
   "mimetype": "text/x-python",
   "name": "python",
   "nbconvert_exporter": "python",
   "pygments_lexer": "ipython3",
   "version": "3.9.7"
  },
  "orig_nbformat": 4
 },
 "nbformat": 4,
 "nbformat_minor": 2
}
