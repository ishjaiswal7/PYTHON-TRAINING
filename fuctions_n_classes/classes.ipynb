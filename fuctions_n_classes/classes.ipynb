{
 "cells": [
  {
   "cell_type": "markdown",
   "metadata": {},
   "source": [
    "# Class"
   ]
  },
  {
   "cell_type": "code",
   "execution_count": 1,
   "metadata": {},
   "outputs": [],
   "source": [
    "class Bread:\n",
    "    pass"
   ]
  },
  {
   "cell_type": "code",
   "execution_count": 3,
   "metadata": {},
   "outputs": [
    {
     "data": {
      "text/plain": [
       "type"
      ]
     },
     "execution_count": 3,
     "metadata": {},
     "output_type": "execute_result"
    }
   ],
   "source": [
    "type(Bread)"
   ]
  },
  {
   "cell_type": "code",
   "execution_count": 6,
   "metadata": {},
   "outputs": [
    {
     "data": {
      "text/plain": [
       "__main__.Bread"
      ]
     },
     "execution_count": 6,
     "metadata": {},
     "output_type": "execute_result"
    }
   ],
   "source": [
    "b = Bread() # b is a variable of type Bread (b is object of Bread)\n",
    "type(b)"
   ]
  },
  {
   "cell_type": "code",
   "execution_count": 7,
   "metadata": {},
   "outputs": [],
   "source": [
    "class Bread:\n",
    "    # attributes\n",
    "    ingredient = 'wheat'\n",
    "    color = 'white'\n",
    "\n",
    "    # methods\n",
    "    def details(self):\n",
    "        print(self.ingredient)\n",
    "        print(self.color)\n",
    "    "
   ]
  },
  {
   "cell_type": "code",
   "execution_count": 12,
   "metadata": {},
   "outputs": [],
   "source": [
    "roti = Bread()\n",
    "chapati = Bread()\n",
    "paratha = Bread()\n",
    "bun = Bread()"
   ]
  },
  {
   "cell_type": "code",
   "execution_count": 16,
   "metadata": {},
   "outputs": [
    {
     "name": "stdout",
     "output_type": "stream",
     "text": [
      "light brown wheat\n"
     ]
    }
   ],
   "source": [
    "paratha.color = 'light brown'\n",
    "print(paratha.color,paratha.ingredient)"
   ]
  },
  {
   "cell_type": "code",
   "execution_count": 17,
   "metadata": {},
   "outputs": [
    {
     "name": "stdout",
     "output_type": "stream",
     "text": [
      "wheat\n",
      "light brown\n"
     ]
    }
   ],
   "source": [
    "paratha.details()"
   ]
  },
  {
   "cell_type": "code",
   "execution_count": 18,
   "metadata": {},
   "outputs": [
    {
     "name": "stdout",
     "output_type": "stream",
     "text": [
      "wheat\n",
      "white\n"
     ]
    }
   ],
   "source": [
    "roti.details()"
   ]
  },
  {
   "cell_type": "code",
   "execution_count": 20,
   "metadata": {},
   "outputs": [],
   "source": [
    "class Animal:\n",
    "    species = \"\"\n",
    "    age = \"\"\n",
    "    gender = \"\"\n",
    "    food_pref = \"\"\n",
    "    habitat = \"\"\n",
    "\n",
    "    def info(self):\n",
    "        print('Animal details')\n",
    "        print(self.species)\n",
    "        print(self.age)\n",
    "        print(self.gender)\n",
    "        print(self.food_pref)\n",
    "        print(self.habitat)"
   ]
  },
  {
   "cell_type": "code",
   "execution_count": 22,
   "metadata": {},
   "outputs": [
    {
     "name": "stdout",
     "output_type": "stream",
     "text": [
      "Help on class Animal in module __main__:\n",
      "\n",
      "class Animal(builtins.object)\n",
      " |  Methods defined here:\n",
      " |  \n",
      " |  info(self)\n",
      " |  \n",
      " |  ----------------------------------------------------------------------\n",
      " |  Data descriptors defined here:\n",
      " |  \n",
      " |  __dict__\n",
      " |      dictionary for instance variables (if defined)\n",
      " |  \n",
      " |  __weakref__\n",
      " |      list of weak references to the object (if defined)\n",
      " |  \n",
      " |  ----------------------------------------------------------------------\n",
      " |  Data and other attributes defined here:\n",
      " |  \n",
      " |  age = ''\n",
      " |  \n",
      " |  food_pref = ''\n",
      " |  \n",
      " |  gender = ''\n",
      " |  \n",
      " |  habitat = ''\n",
      " |  \n",
      " |  species = ''\n",
      "\n"
     ]
    }
   ],
   "source": [
    "# te get details of a class\n",
    "help(Animal)"
   ]
  },
  {
   "cell_type": "code",
   "execution_count": 23,
   "metadata": {},
   "outputs": [],
   "source": [
    "dog = Animal()\n",
    "dog.gender = 'male'\n",
    "dog.species = 'Canis familiaris'\n",
    "dog.food_pref = 'omnivorous'\n",
    "dog.habitat = 'city'\n",
    "dog.age = 12"
   ]
  },
  {
   "cell_type": "code",
   "execution_count": 24,
   "metadata": {},
   "outputs": [],
   "source": [
    "billu = Animal()\n",
    "billu.gender = 'female'\n",
    "billu.species = 'Felis Catus'\n",
    "billu.food_pref = 'omnivorous'\n",
    "billu.habitat = 'everywhere'\n",
    "billu.age = 3"
   ]
  },
  {
   "cell_type": "code",
   "execution_count": 25,
   "metadata": {},
   "outputs": [
    {
     "name": "stdout",
     "output_type": "stream",
     "text": [
      "Animal details\n",
      "Canis familiaris\n",
      "12\n",
      "male\n",
      "omnivorous\n",
      "city\n"
     ]
    }
   ],
   "source": [
    "dog.info()"
   ]
  },
  {
   "cell_type": "code",
   "execution_count": 26,
   "metadata": {},
   "outputs": [
    {
     "name": "stdout",
     "output_type": "stream",
     "text": [
      "Animal details\n",
      "Felis Catus\n",
      "3\n",
      "female\n",
      "omnivorous\n",
      "everywhere\n"
     ]
    }
   ],
   "source": [
    "billu.info()"
   ]
  },
  {
   "cell_type": "markdown",
   "metadata": {},
   "source": [
    "### Using Constructor"
   ]
  },
  {
   "cell_type": "code",
   "execution_count": 34,
   "metadata": {},
   "outputs": [],
   "source": [
    "class Animal:\n",
    "    # constructor\n",
    "    def __init__(self,species,age,food,gender,habitat='city') -> None:\n",
    "        # instance variable = parameter\n",
    "        self.species = species\n",
    "        self.age = age\n",
    "        self.food = food\n",
    "        self.gender = gender\n",
    "        self.habitat = habitat\n",
    "\n",
    "    def info(self):\n",
    "        print('Animal details')\n",
    "        print(self.species)\n",
    "        print(self.age)\n",
    "        print(self.gender)\n",
    "        print(self.food)\n",
    "        print(self.habitat)"
   ]
  },
  {
   "cell_type": "code",
   "execution_count": 29,
   "metadata": {},
   "outputs": [
    {
     "name": "stdout",
     "output_type": "stream",
     "text": [
      "Animal details\n",
      "Canis familiaris\n",
      "3\n",
      "male\n",
      "omnivorous\n",
      "city\n"
     ]
    }
   ],
   "source": [
    "moti = Animal(species='Canis familiaris', age= 3, food='omnivorous',gender='male')\n",
    "moti.info()"
   ]
  },
  {
   "cell_type": "code",
   "execution_count": 30,
   "metadata": {},
   "outputs": [
    {
     "name": "stdout",
     "output_type": "stream",
     "text": [
      "Animal details\n",
      "Bos taurus\n",
      "10\n",
      "female\n",
      "herbivorous\n",
      "grassland\n"
     ]
    }
   ],
   "source": [
    "laxmi = Animal(species=\"Bos taurus\", age=10,food='herbivorous',gender='female',habitat='grassland')\n",
    "laxmi.info()"
   ]
  },
  {
   "cell_type": "code",
   "execution_count": 36,
   "metadata": {},
   "outputs": [],
   "source": [
    "class Email:\n",
    "    def __init__(self) -> None:\n",
    "        self.is_sent = False\n",
    "    def send_email(self):\n",
    "        self.is_sent = True"
   ]
  },
  {
   "cell_type": "code",
   "execution_count": 37,
   "metadata": {},
   "outputs": [
    {
     "data": {
      "text/plain": [
       "False"
      ]
     },
     "execution_count": 37,
     "metadata": {},
     "output_type": "execute_result"
    }
   ],
   "source": [
    "my_email = Email()\n",
    "my_email.is_sent"
   ]
  },
  {
   "cell_type": "code",
   "execution_count": 38,
   "metadata": {},
   "outputs": [
    {
     "data": {
      "text/plain": [
       "True"
      ]
     },
     "execution_count": 38,
     "metadata": {},
     "output_type": "execute_result"
    }
   ],
   "source": [
    "my_email.send_email()\n",
    "my_email.is_sent"
   ]
  },
  {
   "cell_type": "code",
   "execution_count": 39,
   "metadata": {},
   "outputs": [],
   "source": [
    "class Theorem:\n",
    "\n",
    "    def __init__(self,x=0,y=0) -> None:\n",
    "        self.x = x\n",
    "        self.y = y\n",
    "        self.result = 0\n",
    "    \n",
    "    def hyp(self):\n",
    "        self.result = (self.x ** 2 + self.y ** 2) ** .5\n"
   ]
  },
  {
   "cell_type": "code",
   "execution_count": 41,
   "metadata": {},
   "outputs": [
    {
     "name": "stdout",
     "output_type": "stream",
     "text": [
      "old 0\n",
      "new 13.0\n"
     ]
    }
   ],
   "source": [
    "q = Theorem(12,5)\n",
    "print (\"old\", q.result)\n",
    "q.hyp()\n",
    "print(\"new\",q.result)"
   ]
  },
  {
   "cell_type": "code",
   "execution_count": null,
   "metadata": {},
   "outputs": [],
   "source": []
  }
 ],
 "metadata": {
  "interpreter": {
   "hash": "d62006d1f3422635846181a997a61e8ec3049f797e5d7dfe0cd1bb84092b7c19"
  },
  "kernelspec": {
   "display_name": "Python 3.9.7 64-bit",
   "language": "python",
   "name": "python3"
  },
  "language_info": {
   "codemirror_mode": {
    "name": "ipython",
    "version": 3
   },
   "file_extension": ".py",
   "mimetype": "text/x-python",
   "name": "python",
   "nbconvert_exporter": "python",
   "pygments_lexer": "ipython3",
   "version": "3.9.7"
  },
  "orig_nbformat": 4
 },
 "nbformat": 4,
 "nbformat_minor": 2
}
