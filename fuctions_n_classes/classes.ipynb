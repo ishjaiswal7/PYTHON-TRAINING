{
 "cells": [
  {
   "cell_type": "markdown",
   "metadata": {},
   "source": [
    "# Class"
   ]
  },
  {
   "cell_type": "code",
   "execution_count": 1,
   "metadata": {},
   "outputs": [],
   "source": [
    "class Bread:\n",
    "    pass"
   ]
  },
  {
   "cell_type": "code",
   "execution_count": 3,
   "metadata": {},
   "outputs": [
    {
     "data": {
      "text/plain": [
       "type"
      ]
     },
     "execution_count": 3,
     "metadata": {},
     "output_type": "execute_result"
    }
   ],
   "source": [
    "type(Bread)"
   ]
  },
  {
   "cell_type": "code",
   "execution_count": 6,
   "metadata": {},
   "outputs": [
    {
     "data": {
      "text/plain": [
       "__main__.Bread"
      ]
     },
     "execution_count": 6,
     "metadata": {},
     "output_type": "execute_result"
    }
   ],
   "source": [
    "b = Bread() # b is a variable of type Bread (b is object of Bread)\n",
    "type(b)"
   ]
  },
  {
   "cell_type": "code",
   "execution_count": 7,
   "metadata": {},
   "outputs": [],
   "source": [
    "class Bread:\n",
    "    # attributes\n",
    "    ingredient = 'wheat'\n",
    "    color = 'white'\n",
    "\n",
    "    # methods\n",
    "    def details(self):\n",
    "        print(self.ingredient)\n",
    "        print(self.color)\n",
    "    "
   ]
  },
  {
   "cell_type": "code",
   "execution_count": 12,
   "metadata": {},
   "outputs": [],
   "source": [
    "roti = Bread()\n",
    "chapati = Bread()\n",
    "paratha = Bread()\n",
    "bun = Bread()"
   ]
  },
  {
   "cell_type": "code",
   "execution_count": 16,
   "metadata": {},
   "outputs": [
    {
     "name": "stdout",
     "output_type": "stream",
     "text": [
      "light brown wheat\n"
     ]
    }
   ],
   "source": [
    "paratha.color = 'light brown'\n",
    "print(paratha.color,paratha.ingredient)"
   ]
  },
  {
   "cell_type": "code",
   "execution_count": 17,
   "metadata": {},
   "outputs": [
    {
     "name": "stdout",
     "output_type": "stream",
     "text": [
      "wheat\n",
      "light brown\n"
     ]
    }
   ],
   "source": [
    "paratha.details()"
   ]
  },
  {
   "cell_type": "code",
   "execution_count": 18,
   "metadata": {},
   "outputs": [
    {
     "name": "stdout",
     "output_type": "stream",
     "text": [
      "wheat\n",
      "white\n"
     ]
    }
   ],
   "source": [
    "roti.details()"
   ]
  },
  {
   "cell_type": "code",
   "execution_count": 20,
   "metadata": {},
   "outputs": [],
   "source": [
    "class Animal:\n",
    "    species = \"\"\n",
    "    age = \"\"\n",
    "    gender = \"\"\n",
    "    food_pref = \"\"\n",
    "    habitat = \"\"\n",
    "\n",
    "    def info(self):\n",
    "        print('Animal details')\n",
    "        print(self.species)\n",
    "        print(self.age)\n",
    "        print(self.gender)\n",
    "        print(self.food_pref)\n",
    "        print(self.habitat)"
   ]
  },
  {
   "cell_type": "code",
   "execution_count": 22,
   "metadata": {},
   "outputs": [
    {
     "name": "stdout",
     "output_type": "stream",
     "text": [
      "Help on class Animal in module __main__:\n",
      "\n",
      "class Animal(builtins.object)\n",
      " |  Methods defined here:\n",
      " |  \n",
      " |  info(self)\n",
      " |  \n",
      " |  ----------------------------------------------------------------------\n",
      " |  Data descriptors defined here:\n",
      " |  \n",
      " |  __dict__\n",
      " |      dictionary for instance variables (if defined)\n",
      " |  \n",
      " |  __weakref__\n",
      " |      list of weak references to the object (if defined)\n",
      " |  \n",
      " |  ----------------------------------------------------------------------\n",
      " |  Data and other attributes defined here:\n",
      " |  \n",
      " |  age = ''\n",
      " |  \n",
      " |  food_pref = ''\n",
      " |  \n",
      " |  gender = ''\n",
      " |  \n",
      " |  habitat = ''\n",
      " |  \n",
      " |  species = ''\n",
      "\n"
     ]
    }
   ],
   "source": [
    "# te get details of a class\n",
    "help(Animal)"
   ]
  },
  {
   "cell_type": "code",
   "execution_count": 23,
   "metadata": {},
   "outputs": [],
   "source": [
    "dog = Animal()\n",
    "dog.gender = 'male'\n",
    "dog.species = 'Canis familiaris'\n",
    "dog.food_pref = 'omnivorous'\n",
    "dog.habitat = 'city'\n",
    "dog.age = 12"
   ]
  },
  {
   "cell_type": "code",
   "execution_count": 24,
   "metadata": {},
   "outputs": [],
   "source": [
    "billu = Animal()\n",
    "billu.gender = 'female'\n",
    "billu.species = 'Felis Catus'\n",
    "billu.food_pref = 'omnivorous'\n",
    "billu.habitat = 'everywhere'\n",
    "billu.age = 3"
   ]
  },
  {
   "cell_type": "code",
   "execution_count": 25,
   "metadata": {},
   "outputs": [
    {
     "name": "stdout",
     "output_type": "stream",
     "text": [
      "Animal details\n",
      "Canis familiaris\n",
      "12\n",
      "male\n",
      "omnivorous\n",
      "city\n"
     ]
    }
   ],
   "source": [
    "dog.info()"
   ]
  },
  {
   "cell_type": "code",
   "execution_count": 26,
   "metadata": {},
   "outputs": [
    {
     "name": "stdout",
     "output_type": "stream",
     "text": [
      "Animal details\n",
      "Felis Catus\n",
      "3\n",
      "female\n",
      "omnivorous\n",
      "everywhere\n"
     ]
    }
   ],
   "source": [
    "billu.info()"
   ]
  },
  {
   "cell_type": "markdown",
   "metadata": {},
   "source": [
    "### Using Constructor"
   ]
  },
  {
   "cell_type": "code",
   "execution_count": 34,
   "metadata": {},
   "outputs": [],
   "source": [
    "class Animal:\n",
    "    # constructor\n",
    "    def __init__(self,species,age,food,gender,habitat='city') -> None:\n",
    "        # instance variable = parameter\n",
    "        self.species = species\n",
    "        self.age = age\n",
    "        self.food = food\n",
    "        self.gender = gender\n",
    "        self.habitat = habitat\n",
    "\n",
    "    def info(self):\n",
    "        print('Animal details')\n",
    "        print(self.species)\n",
    "        print(self.age)\n",
    "        print(self.gender)\n",
    "        print(self.food)\n",
    "        print(self.habitat)"
   ]
  },
  {
   "cell_type": "code",
   "execution_count": 29,
   "metadata": {},
   "outputs": [
    {
     "name": "stdout",
     "output_type": "stream",
     "text": [
      "Animal details\n",
      "Canis familiaris\n",
      "3\n",
      "male\n",
      "omnivorous\n",
      "city\n"
     ]
    }
   ],
   "source": [
    "moti = Animal(species='Canis familiaris', age= 3, food='omnivorous',gender='male')\n",
    "moti.info()"
   ]
  },
  {
   "cell_type": "code",
   "execution_count": 30,
   "metadata": {},
   "outputs": [
    {
     "name": "stdout",
     "output_type": "stream",
     "text": [
      "Animal details\n",
      "Bos taurus\n",
      "10\n",
      "female\n",
      "herbivorous\n",
      "grassland\n"
     ]
    }
   ],
   "source": [
    "laxmi = Animal(species=\"Bos taurus\", age=10,food='herbivorous',gender='female',habitat='grassland')\n",
    "laxmi.info()"
   ]
  },
  {
   "cell_type": "code",
   "execution_count": 36,
   "metadata": {},
   "outputs": [],
   "source": [
    "class Email:\n",
    "    def __init__(self) -> None:\n",
    "        self.is_sent = False\n",
    "    def send_email(self):\n",
    "        self.is_sent = True"
   ]
  },
  {
   "cell_type": "code",
   "execution_count": 37,
   "metadata": {},
   "outputs": [
    {
     "data": {
      "text/plain": [
       "False"
      ]
     },
     "execution_count": 37,
     "metadata": {},
     "output_type": "execute_result"
    }
   ],
   "source": [
    "my_email = Email()\n",
    "my_email.is_sent"
   ]
  },
  {
   "cell_type": "code",
   "execution_count": 38,
   "metadata": {},
   "outputs": [
    {
     "data": {
      "text/plain": [
       "True"
      ]
     },
     "execution_count": 38,
     "metadata": {},
     "output_type": "execute_result"
    }
   ],
   "source": [
    "my_email.send_email()\n",
    "my_email.is_sent"
   ]
  },
  {
   "cell_type": "code",
   "execution_count": 39,
   "metadata": {},
   "outputs": [],
   "source": [
    "class Theorem:\n",
    "\n",
    "    def __init__(self,x=0,y=0) -> None:\n",
    "        self.x = x\n",
    "        self.y = y\n",
    "        self.result = 0\n",
    "    \n",
    "    def hyp(self):\n",
    "        self.result = (self.x ** 2 + self.y ** 2) ** .5\n"
   ]
  },
  {
   "cell_type": "code",
   "execution_count": 41,
   "metadata": {},
   "outputs": [
    {
     "name": "stdout",
     "output_type": "stream",
     "text": [
      "old 0\n",
      "new 13.0\n"
     ]
    }
   ],
   "source": [
    "q = Theorem(12,5)\n",
    "print (\"old\", q.result)\n",
    "q.hyp()\n",
    "print(\"new\",q.result)"
   ]
  },
  {
   "cell_type": "markdown",
   "metadata": {},
   "source": [
    "11 Dec'21"
   ]
  },
  {
   "cell_type": "code",
   "execution_count": null,
   "metadata": {},
   "outputs": [],
   "source": [
    "class claculator:\n",
    "    def add (self,*nums):\n",
    "        only_nums = tuple(filter())\n"
   ]
  },
  {
   "cell_type": "markdown",
   "metadata": {},
   "source": [
    "# inheritance"
   ]
  },
  {
   "cell_type": "code",
   "execution_count": 1,
   "metadata": {},
   "outputs": [],
   "source": [
    "class Person:\n",
    "    def __init__(self,name) -> None:\n",
    "        self.name = name\n",
    "        "
   ]
  },
  {
   "cell_type": "code",
   "execution_count": 3,
   "metadata": {},
   "outputs": [],
   "source": [
    "p1 = Person('Ajay')"
   ]
  },
  {
   "cell_type": "code",
   "execution_count": 4,
   "metadata": {},
   "outputs": [
    {
     "data": {
      "text/plain": [
       "['__class__',\n",
       " '__delattr__',\n",
       " '__dict__',\n",
       " '__dir__',\n",
       " '__doc__',\n",
       " '__eq__',\n",
       " '__format__',\n",
       " '__ge__',\n",
       " '__getattribute__',\n",
       " '__gt__',\n",
       " '__hash__',\n",
       " '__init__',\n",
       " '__init_subclass__',\n",
       " '__le__',\n",
       " '__lt__',\n",
       " '__module__',\n",
       " '__ne__',\n",
       " '__new__',\n",
       " '__reduce__',\n",
       " '__reduce_ex__',\n",
       " '__repr__',\n",
       " '__setattr__',\n",
       " '__sizeof__',\n",
       " '__str__',\n",
       " '__subclasshook__',\n",
       " '__weakref__',\n",
       " 'name']"
      ]
     },
     "execution_count": 4,
     "metadata": {},
     "output_type": "execute_result"
    }
   ],
   "source": [
    "dir(p1)"
   ]
  },
  {
   "cell_type": "code",
   "execution_count": 5,
   "metadata": {},
   "outputs": [],
   "source": [
    "# sub class\n",
    "class Student(Person) : # inheritance from person to student\n",
    "    def __init__(self, name,college,klass): # constructor\n",
    "        super().__init__(name)              # telling the superclass that requirement is fulfilled\n",
    "        self.college = college\n",
    "        self.klass = klass\n",
    "    def show(self):\n",
    "        print(\"Name:\",self.name)\n",
    "        print(\"College:\",self.college)\n",
    "        print(\"Class:\",self.klass)\n",
    "            "
   ]
  },
  {
   "cell_type": "code",
   "execution_count": 6,
   "metadata": {},
   "outputs": [],
   "source": [
    "s1 = Student('Rani','SBST','12th')"
   ]
  },
  {
   "cell_type": "code",
   "execution_count": 7,
   "metadata": {},
   "outputs": [
    {
     "name": "stdout",
     "output_type": "stream",
     "text": [
      "Name: Rani\n",
      "College: SBST\n",
      "Class: 12th\n"
     ]
    }
   ],
   "source": [
    "s1.show()"
   ]
  },
  {
   "cell_type": "code",
   "execution_count": 8,
   "metadata": {},
   "outputs": [
    {
     "data": {
      "text/plain": [
       "'Rani'"
      ]
     },
     "execution_count": 8,
     "metadata": {},
     "output_type": "execute_result"
    }
   ],
   "source": [
    "s1.name"
   ]
  },
  {
   "cell_type": "code",
   "execution_count": 9,
   "metadata": {},
   "outputs": [],
   "source": [
    "class Scholar(Student):\n",
    "\n",
    "    def __init__(self, name, college, klass, stream, course, rollno, total_fee):\n",
    "        super().__init__(name, college, klass)\n",
    "        self.stream = stream\n",
    "        self.course = course\n",
    "        self.rollno = rollno\n",
    "        self.total_fee = total_fee\n",
    "\n",
    "    # overriding method\n",
    "    def show(self):\n",
    "        super().show() # call the superclass show()\n",
    "        print(\"Stream : \",self.stream)\n",
    "        print(\"Course : \",self.course)\n",
    "        print(\"Roll number : \",self.rollno)\n",
    "        print(\"Total Fee : \",self.total_fee)\n",
    "        "
   ]
  },
  {
   "cell_type": "code",
   "execution_count": 10,
   "metadata": {},
   "outputs": [
    {
     "name": "stdout",
     "output_type": "stream",
     "text": [
      "Name: Raju\n",
      "College: ABCD\n",
      "Class: Masters\n",
      "Stream :  computer\n",
      "Course :  Computer Application\n",
      "Roll number :  AB12653\n",
      "Total Fee :  60321\n"
     ]
    }
   ],
   "source": [
    "sc = Scholar('Raju','ABCD','Masters','computer','Computer Application','AB12653',60321)\n",
    "sc.show()"
   ]
  },
  {
   "cell_type": "code",
   "execution_count": 12,
   "metadata": {},
   "outputs": [
    {
     "data": {
      "text/plain": [
       "['__class__',\n",
       " '__delattr__',\n",
       " '__dict__',\n",
       " '__dir__',\n",
       " '__doc__',\n",
       " '__eq__',\n",
       " '__format__',\n",
       " '__ge__',\n",
       " '__getattribute__',\n",
       " '__gt__',\n",
       " '__hash__',\n",
       " '__init__',\n",
       " '__init_subclass__',\n",
       " '__le__',\n",
       " '__lt__',\n",
       " '__module__',\n",
       " '__ne__',\n",
       " '__new__',\n",
       " '__reduce__',\n",
       " '__reduce_ex__',\n",
       " '__repr__',\n",
       " '__setattr__',\n",
       " '__sizeof__',\n",
       " '__str__',\n",
       " '__subclasshook__',\n",
       " '__weakref__',\n",
       " 'show']"
      ]
     },
     "execution_count": 12,
     "metadata": {},
     "output_type": "execute_result"
    }
   ],
   "source": [
    "dir(Scholar) #dunder methods"
   ]
  },
  {
   "cell_type": "markdown",
   "metadata": {},
   "source": [
    "# Operator Overloading using Dunder Methods"
   ]
  },
  {
   "cell_type": "code",
   "execution_count": 19,
   "metadata": {},
   "outputs": [],
   "source": [
    "class Products:\n",
    "    def __init__(self,pname,price) -> None:\n",
    "        self.name = pname\n",
    "        self.price = price\n",
    "\n",
    "    def __gt__(self, other):\n",
    "        return self.price > other.price\n",
    "\n",
    "    def __add__(self,other):\n",
    "        return self.price + other.price"
   ]
  },
  {
   "cell_type": "code",
   "execution_count": 20,
   "metadata": {},
   "outputs": [],
   "source": [
    "p1 = Products(\"Mobile\",10000)\n",
    "p2 = Products(\"Mouse\",1000)\n",
    "p3 = Products(\"Vaccum Cleaner\",15000)\n"
   ]
  },
  {
   "cell_type": "code",
   "execution_count": 25,
   "metadata": {},
   "outputs": [
    {
     "data": {
      "text/plain": [
       "True"
      ]
     },
     "execution_count": 25,
     "metadata": {},
     "output_type": "execute_result"
    }
   ],
   "source": [
    "p1 > p2"
   ]
  },
  {
   "cell_type": "code",
   "execution_count": 27,
   "metadata": {},
   "outputs": [
    {
     "data": {
      "text/plain": [
       "False"
      ]
     },
     "execution_count": 27,
     "metadata": {},
     "output_type": "execute_result"
    }
   ],
   "source": [
    "p1 < p2"
   ]
  },
  {
   "cell_type": "code",
   "execution_count": 28,
   "metadata": {},
   "outputs": [
    {
     "data": {
      "text/plain": [
       "11000"
      ]
     },
     "execution_count": 28,
     "metadata": {},
     "output_type": "execute_result"
    }
   ],
   "source": [
    "p1 + p2"
   ]
  },
  {
   "cell_type": "code",
   "execution_count": null,
   "metadata": {},
   "outputs": [],
   "source": []
  }
 ],
 "metadata": {
  "interpreter": {
   "hash": "d62006d1f3422635846181a997a61e8ec3049f797e5d7dfe0cd1bb84092b7c19"
  },
  "kernelspec": {
   "display_name": "Python 3.9.7 64-bit",
   "language": "python",
   "name": "python3"
  },
  "language_info": {
   "codemirror_mode": {
    "name": "ipython",
    "version": 3
   },
   "file_extension": ".py",
   "mimetype": "text/x-python",
   "name": "python",
   "nbconvert_exporter": "python",
   "pygments_lexer": "ipython3",
   "version": "3.9.7"
  },
  "orig_nbformat": 4
 },
 "nbformat": 4,
 "nbformat_minor": 2
}
