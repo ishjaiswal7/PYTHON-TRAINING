{
 "cells": [
  {
   "cell_type": "markdown",
   "metadata": {},
   "source": [
    "# PYTHON STRINGS\n",
    ">## Answer each question with a code solution.\n"
   ]
  },
  {
   "cell_type": "markdown",
   "metadata": {},
   "source": [
    "1. Create a srting and print it.\n"
   ]
  },
  {
   "cell_type": "code",
   "execution_count": 57,
   "metadata": {},
   "outputs": [
    {
     "name": "stdout",
     "output_type": "stream",
     "text": [
      "abc\n"
     ]
    }
   ],
   "source": [
    "# 1\n",
    "str = 'abc'\n",
    "print(str)"
   ]
  },
  {
   "cell_type": "markdown",
   "metadata": {},
   "source": [
    "2. Take a string input and print it's length.\n"
   ]
  },
  {
   "cell_type": "code",
   "execution_count": 3,
   "metadata": {},
   "outputs": [
    {
     "name": "stdout",
     "output_type": "stream",
     "text": [
      "9\n"
     ]
    }
   ],
   "source": [
    "# 2\n",
    "str = input('Enter a string : ')\n",
    "print(len(str))"
   ]
  },
  {
   "cell_type": "markdown",
   "metadata": {},
   "source": [
    "3. Print the last word of the string `Python is great` using slices.\n"
   ]
  },
  {
   "cell_type": "code",
   "execution_count": 58,
   "metadata": {},
   "outputs": [
    {
     "name": "stdout",
     "output_type": "stream",
     "text": [
      "great\n"
     ]
    }
   ],
   "source": [
    "# 3\n",
    "str = 'Python is great'\n",
    "print(str[-5:])"
   ]
  },
  {
   "cell_type": "markdown",
   "metadata": {},
   "source": [
    "4. Print the each word in different line of string `python is everywhere`.\n"
   ]
  },
  {
   "cell_type": "code",
   "execution_count": 2,
   "metadata": {},
   "outputs": [
    {
     "name": "stdout",
     "output_type": "stream",
     "text": [
      "Python\n",
      "is\n",
      "everywhere"
     ]
    }
   ],
   "source": [
    "# 4\n",
    "str = 'Python is everywhere'\n",
    "for i in str:\n",
    "    if i!=' ':\n",
    "        print(i,end = '')\n",
    "    else:\n",
    "        print()"
   ]
  },
  {
   "cell_type": "markdown",
   "metadata": {},
   "source": [
    "5. Print the string `Hello World!` in reverse.\n"
   ]
  },
  {
   "cell_type": "code",
   "execution_count": 3,
   "metadata": {},
   "outputs": [
    {
     "name": "stdout",
     "output_type": "stream",
     "text": [
      "!dlroW olleH\n"
     ]
    }
   ],
   "source": [
    "# 5\n",
    "str = 'Hello World!'\n",
    "print(str[::-1])"
   ]
  },
  {
   "cell_type": "markdown",
   "metadata": {},
   "source": [
    "6. Convert the string `How are you?` in uppercase.\n"
   ]
  },
  {
   "cell_type": "code",
   "execution_count": 59,
   "metadata": {},
   "outputs": [
    {
     "name": "stdout",
     "output_type": "stream",
     "text": [
      "HOW ARE YOU?\n"
     ]
    }
   ],
   "source": [
    "# 6\n",
    "str = 'How are you?'\n",
    "str = str.upper()\n",
    "print(str)"
   ]
  },
  {
   "cell_type": "markdown",
   "metadata": {},
   "source": [
    "7. Convert the string `How Is It Going?` in lowercase.\n"
   ]
  },
  {
   "cell_type": "code",
   "execution_count": 60,
   "metadata": {},
   "outputs": [
    {
     "name": "stdout",
     "output_type": "stream",
     "text": [
      "how is it going?\n"
     ]
    }
   ],
   "source": [
    "# 7\n",
    "str = 'How Is It Going?'\n",
    "str = str.lower()\n",
    "print(str)"
   ]
  },
  {
   "cell_type": "markdown",
   "metadata": {},
   "source": [
    "8. Join the following list by spaces(` `) and print the result.\n",
    "    ```py\n",
    "    words = ['Python', 'is', 'easy', 'to', 'learn']\n",
    "    ```\n"
   ]
  },
  {
   "cell_type": "code",
   "execution_count": 61,
   "metadata": {},
   "outputs": [
    {
     "name": "stdout",
     "output_type": "stream",
     "text": [
      "Python is easy to learn\n"
     ]
    }
   ],
   "source": [
    "# 8\n",
    "words = ['Python' , 'is' , 'easy' , 'to' , 'learn']\n",
    "str=''\n",
    "for i in words:\n",
    "    str += i + ' '\n",
    "# str=str.strip()\n",
    "str = str[:-1]\n",
    "print(str)"
   ]
  },
  {
   "cell_type": "markdown",
   "metadata": {},
   "source": [
    "9. Print a multiline string using a single `print`\n"
   ]
  },
  {
   "cell_type": "code",
   "execution_count": 19,
   "metadata": {},
   "outputs": [
    {
     "name": "stdout",
     "output_type": "stream",
     "text": [
      "I\n",
      "don't\n",
      "know\n",
      "what\n",
      "to\n",
      "print.\n"
     ]
    }
   ],
   "source": [
    "# 9\n",
    "print('''I\n",
    "don't\n",
    "know\n",
    "what\n",
    "to\n",
    "print.''')"
   ]
  },
  {
   "cell_type": "markdown",
   "metadata": {},
   "source": [
    "10. Print this string `to move to newline '\\n' is used.` (results should look exactly like the provided string)\n"
   ]
  },
  {
   "cell_type": "code",
   "execution_count": 62,
   "metadata": {},
   "outputs": [
    {
     "name": "stdout",
     "output_type": "stream",
     "text": [
      "to move to newline '\\n' is used.\n"
     ]
    }
   ],
   "source": [
    "# 10\n",
    "print(r\"to move to newline '\\n' is used.\")"
   ]
  },
  {
   "cell_type": "markdown",
   "metadata": {},
   "source": [
    "11. Print a variable with some text using a single print function, output should look like following.\n",
    "    ```\n",
    "    the variable is 15\n",
    "    ```\n"
   ]
  },
  {
   "cell_type": "code",
   "execution_count": 29,
   "metadata": {},
   "outputs": [
    {
     "name": "stdout",
     "output_type": "stream",
     "text": [
      "the variable is 15\n"
     ]
    }
   ],
   "source": [
    "# 11\n",
    "this = 15\n",
    "print(f'the variable is {this}')"
   ]
  },
  {
   "cell_type": "markdown",
   "metadata": {},
   "source": [
    "12. concatenate the following strings and print the result\n",
    "    ```py\n",
    "    s1 = 'python '\n",
    "    s2 = 'is '\n",
    "    s3 = 'great.'\n",
    "    ```"
   ]
  },
  {
   "cell_type": "code",
   "execution_count": 33,
   "metadata": {},
   "outputs": [
    {
     "name": "stdout",
     "output_type": "stream",
     "text": [
      "python is great.\n"
     ]
    }
   ],
   "source": [
    "# 12\n",
    "s1 = 'python '\n",
    "s2 = 'is '\n",
    "s3 = 'great.'\n",
    "s1 += s2 + s3\n",
    "print(s1)"
   ]
  },
  {
   "cell_type": "markdown",
   "metadata": {},
   "source": [
    "13. Print `#` 20 times without using a loop\n"
   ]
  },
  {
   "cell_type": "code",
   "execution_count": 32,
   "metadata": {},
   "outputs": [
    {
     "name": "stdout",
     "output_type": "stream",
     "text": [
      "####################\n"
     ]
    }
   ],
   "source": [
    "# 13\n",
    "print('#' * 20)\n"
   ]
  },
  {
   "cell_type": "markdown",
   "metadata": {},
   "source": [
    "14. Print numbers from 1 to 9, each on a seperate line, followed by a dot, output should look like the following-\n",
    "    ```\n",
    "    1.\n",
    "    2.\n",
    "    3.\n",
    "\n",
    "    ```\n"
   ]
  },
  {
   "cell_type": "code",
   "execution_count": 34,
   "metadata": {},
   "outputs": [
    {
     "name": "stdout",
     "output_type": "stream",
     "text": [
      "1.\n",
      "2.\n",
      "3.\n",
      "4.\n",
      "5.\n",
      "6.\n",
      "7.\n",
      "8.\n",
      "9.\n"
     ]
    }
   ],
   "source": [
    "# 14\n",
    "for i in range(1,10):\n",
    "    print(f'{i}.')"
   ]
  },
  {
   "cell_type": "markdown",
   "metadata": {},
   "source": [
    "15. Ask user to input a sentence and print each word on a different line.\n"
   ]
  },
  {
   "cell_type": "code",
   "execution_count": 35,
   "metadata": {},
   "outputs": [
    {
     "name": "stdout",
     "output_type": "stream",
     "text": [
      "whats\n",
      "you\n",
      "name"
     ]
    }
   ],
   "source": [
    "# 15\n",
    "str = input()\n",
    "for i in str:\n",
    "    if i!=' ':\n",
    "        print(i,end = '')\n",
    "    else:\n",
    "        print()"
   ]
  },
  {
   "cell_type": "markdown",
   "metadata": {},
   "source": [
    "16. Ask user to input a string and check if the string ends with '?'"
   ]
  },
  {
   "cell_type": "code",
   "execution_count": 36,
   "metadata": {},
   "outputs": [
    {
     "name": "stdout",
     "output_type": "stream",
     "text": [
      "The string ends with \"?\"\n"
     ]
    }
   ],
   "source": [
    "# 16\n",
    "str = input('Enter a string : ')\n",
    "if str[-1] == '?':\n",
    "    print('The string ends with \"?\"')\n",
    "else:\n",
    "    print('The string does not end with \"?\"')"
   ]
  },
  {
   "cell_type": "markdown",
   "metadata": {},
   "source": [
    "17. Ask user to input a string and print how many times `e` appeared in the string"
   ]
  },
  {
   "cell_type": "code",
   "execution_count": 38,
   "metadata": {},
   "outputs": [
    {
     "name": "stdout",
     "output_type": "stream",
     "text": [
      "The string has 2 e's\n"
     ]
    }
   ],
   "source": [
    "# 17\n",
    "str = input('Enter a string : ')\n",
    "str = str.lower()\n",
    "c = 0\n",
    "for i in str:\n",
    "    if i == 'e':\n",
    "        c += 1\n",
    "print(f\"The string has {c} e's\")"
   ]
  },
  {
   "cell_type": "markdown",
   "metadata": {},
   "source": [
    "18. Check if the user input is a number.\n"
   ]
  },
  {
   "cell_type": "code",
   "execution_count": 41,
   "metadata": {},
   "outputs": [
    {
     "name": "stdout",
     "output_type": "stream",
     "text": [
      "It is not a number\n"
     ]
    }
   ],
   "source": [
    "# 18\n",
    "str = input()\n",
    "if str.isdigit():\n",
    "    print('It is a number')\n",
    "else:\n",
    "    print('It is not a number')"
   ]
  },
  {
   "cell_type": "markdown",
   "metadata": {},
   "source": [
    "19. Remove the extra spaces in beginning and in the end of the following string-\n",
    "    ```py\n",
    "    text = '   this is not a good string           '\n",
    "    ```\n"
   ]
  },
  {
   "cell_type": "code",
   "execution_count": 45,
   "metadata": {},
   "outputs": [
    {
     "name": "stdout",
     "output_type": "stream",
     "text": [
      "   this is not a good string           \n"
     ]
    }
   ],
   "source": [
    "# 19\n",
    "text = '   this is not a good string           '\n",
    "# text = text.strip()\n",
    "c1 = 0\n",
    "c2 = 0\n",
    "for i in text:\n",
    "    if i == ' ':\n",
    "        c1 += 1\n",
    "    else:\n",
    "        break\n",
    "for i in text[::-1]:\n",
    "    if i == ' ':\n",
    "        c2 += 1\n",
    "    else:\n",
    "        break\n",
    "text = text[c1:-c2]\n",
    "print(text)"
   ]
  },
  {
   "cell_type": "markdown",
   "metadata": {},
   "source": [
    "20. Ask user to input string, print `found` if any of the character is upper case.\n"
   ]
  },
  {
   "cell_type": "code",
   "execution_count": 47,
   "metadata": {},
   "outputs": [
    {
     "name": "stdout",
     "output_type": "stream",
     "text": [
      "Not found\n"
     ]
    }
   ],
   "source": [
    "# 20\n",
    "str = input('Enter a string : ')\n",
    "flag = 0\n",
    "for i in str:\n",
    "    if i.isupper():\n",
    "        print('Found')\n",
    "        flag = 1\n",
    "        break\n",
    "if flag == 0:\n",
    "    print('Not found')"
   ]
  },
  {
   "cell_type": "markdown",
   "metadata": {},
   "source": [
    "21. Extract names from the following string and store them in a list.\n",
    "    ```py\n",
    "    names = 'Joe, David, Mark, Tom, Chris, Robert'\n",
    "    ```"
   ]
  },
  {
   "cell_type": "code",
   "execution_count": 49,
   "metadata": {},
   "outputs": [
    {
     "name": "stdout",
     "output_type": "stream",
     "text": [
      "['Joe', 'David', 'Mark', 'Tom', 'Chris']\n"
     ]
    }
   ],
   "source": [
    "# 21\n",
    "names = 'Joe, David, Mark, Tom, Chris, Robert'\n",
    "str = ''\n",
    "l = []\n",
    "for i in names:\n",
    "    if i.isalpha():\n",
    "        str += i\n",
    "    else:\n",
    "        if str != '':\n",
    "            l.append(str)\n",
    "        str = ''\n",
    "print(l)"
   ]
  },
  {
   "cell_type": "markdown",
   "metadata": {},
   "source": [
    "22. In the following string, add `aye` in the end of every word and print the results.\n",
    "    ```py\n",
    "    text = 'this is some text'\n",
    "    ```\n"
   ]
  },
  {
   "cell_type": "code",
   "execution_count": 52,
   "metadata": {},
   "outputs": [
    {
     "name": "stdout",
     "output_type": "stream",
     "text": [
      "this aye is aye some aye text aye\n"
     ]
    }
   ],
   "source": [
    "# 22\n",
    "text = 'this is some text'\n",
    "text += ' ' \n",
    "s = ''\n",
    "str = ''\n",
    "for i in text:\n",
    "    if i != ' ':\n",
    "        str += i\n",
    "    else:\n",
    "        s += str + ' aye '\n",
    "        str = ''\n",
    "text = s.strip()\n",
    "print(text)"
   ]
  },
  {
   "cell_type": "markdown",
   "metadata": {},
   "source": [
    "23. ask user to enter a string and check if the string contains `fyi`\n"
   ]
  },
  {
   "cell_type": "code",
   "execution_count": 53,
   "metadata": {},
   "outputs": [
    {
     "name": "stdout",
     "output_type": "stream",
     "text": [
      "Yes\n"
     ]
    }
   ],
   "source": [
    "# 23 \n",
    "str = input()\n",
    "if 'fyi' in str:\n",
    "    print('Yes')"
   ]
  },
  {
   "cell_type": "markdown",
   "metadata": {},
   "source": [
    "24. Remove all the special characters and numbers from the following string\n",
    "    ```py\n",
    "    text = '%p34@y!*-*!t68h#&on404'\n",
    "    ```\n"
   ]
  },
  {
   "cell_type": "code",
   "execution_count": 54,
   "metadata": {},
   "outputs": [
    {
     "name": "stdout",
     "output_type": "stream",
     "text": [
      "python\n"
     ]
    }
   ],
   "source": [
    "# 24\n",
    "text = '%p34@y!*-*!t68h#&on404'\n",
    "t = ''\n",
    "for i in text:\n",
    "    if i.isalpha():\n",
    "        t += i\n",
    "text = t\n",
    "print(text)"
   ]
  },
  {
   "cell_type": "markdown",
   "metadata": {},
   "source": [
    "25. calculate the average word length of the following paragraph.\n",
    "    ```\n",
    "    this is a paragraph which is written just for the purpose of providing content to let the average word length be calculated\n",
    "    ```"
   ]
  },
  {
   "cell_type": "code",
   "execution_count": 56,
   "metadata": {},
   "outputs": [
    {
     "name": "stdout",
     "output_type": "stream",
     "text": [
      "The average length is : 4.636363636363637\n"
     ]
    }
   ],
   "source": [
    "# 25\n",
    "text = 'this is a paragraph which is written just for the purpose of providing content to let the average word length be calculated'\n",
    "text += ' '\n",
    "str = ''\n",
    "c = 0\n",
    "t = 0\n",
    "for i in text:\n",
    "    if i != ' ':\n",
    "        str += i\n",
    "    else :\n",
    "        t += len(str)\n",
    "        c += 1 \n",
    "        str = ''\n",
    "avg = t/c\n",
    "print(f'The average length is : {avg}')"
   ]
  }
 ],
 "metadata": {
  "interpreter": {
   "hash": "d62006d1f3422635846181a997a61e8ec3049f797e5d7dfe0cd1bb84092b7c19"
  },
  "kernelspec": {
   "display_name": "Python 3.9.7 64-bit",
   "language": "python",
   "name": "python3"
  },
  "language_info": {
   "codemirror_mode": {
    "name": "ipython",
    "version": 3
   },
   "file_extension": ".py",
   "mimetype": "text/x-python",
   "name": "python",
   "nbconvert_exporter": "python",
   "pygments_lexer": "ipython3",
   "version": "3.9.7"
  },
  "orig_nbformat": 4
 },
 "nbformat": 4,
 "nbformat_minor": 2
}
